{
  "nbformat": 4,
  "nbformat_minor": 0,
  "metadata": {
    "colab": {
      "name": "FriedmanIsoForest.ipynb",
      "provenance": [],
      "include_colab_link": true
    },
    "kernelspec": {
      "display_name": "Python 3",
      "language": "python",
      "name": "python3"
    },
    "language_info": {
      "codemirror_mode": {
        "name": "ipython",
        "version": 3
      },
      "file_extension": ".py",
      "mimetype": "text/x-python",
      "name": "python",
      "nbconvert_exporter": "python",
      "pygments_lexer": "ipython3",
      "version": "3.8.5"
    },
    "widgets": {
      "application/vnd.jupyter.widget-state+json": {
        "57e0623f6a4a428cb199161b333c4790": {
          "model_module": "@jupyter-widgets/controls",
          "model_name": "VBoxModel",
          "state": {
            "_view_name": "VBoxView",
            "_dom_classes": [
              "widget-interact"
            ],
            "_model_name": "VBoxModel",
            "_view_module": "@jupyter-widgets/controls",
            "_model_module_version": "1.5.0",
            "_view_count": null,
            "_view_module_version": "1.5.0",
            "box_style": "",
            "layout": "IPY_MODEL_79d7369f150247c3aa8ed5b080ed10ff",
            "_model_module": "@jupyter-widgets/controls",
            "children": [
              "IPY_MODEL_9f6aef8a06354ec6987e044853d9ee51",
              "IPY_MODEL_f6776e7d1bbd423d8f650fed2720785a",
              "IPY_MODEL_2750a1303ae04bcbba7824741c4f5285"
            ]
          }
        },
        "79d7369f150247c3aa8ed5b080ed10ff": {
          "model_module": "@jupyter-widgets/base",
          "model_name": "LayoutModel",
          "state": {
            "_view_name": "LayoutView",
            "grid_template_rows": null,
            "right": null,
            "justify_content": null,
            "_view_module": "@jupyter-widgets/base",
            "overflow": null,
            "_model_module_version": "1.2.0",
            "_view_count": null,
            "flex_flow": null,
            "width": null,
            "min_width": null,
            "border": null,
            "align_items": null,
            "bottom": null,
            "_model_module": "@jupyter-widgets/base",
            "top": null,
            "grid_column": null,
            "overflow_y": null,
            "overflow_x": null,
            "grid_auto_flow": null,
            "grid_area": null,
            "grid_template_columns": null,
            "flex": null,
            "_model_name": "LayoutModel",
            "justify_items": null,
            "grid_row": null,
            "max_height": null,
            "align_content": null,
            "visibility": null,
            "align_self": null,
            "height": null,
            "min_height": null,
            "padding": null,
            "grid_auto_rows": null,
            "grid_gap": null,
            "max_width": null,
            "order": null,
            "_view_module_version": "1.2.0",
            "grid_template_areas": null,
            "object_position": null,
            "object_fit": null,
            "grid_auto_columns": null,
            "margin": null,
            "display": null,
            "left": null
          }
        },
        "9f6aef8a06354ec6987e044853d9ee51": {
          "model_module": "@jupyter-widgets/controls",
          "model_name": "FloatSliderModel",
          "state": {
            "_view_name": "FloatSliderView",
            "style": "IPY_MODEL_672fe2a788d3457d9afb517b7f15ae6d",
            "_dom_classes": [],
            "description": "y2 mean shift",
            "step": 1,
            "_model_name": "FloatSliderModel",
            "orientation": "horizontal",
            "max": 100,
            "_view_module": "@jupyter-widgets/controls",
            "_model_module_version": "1.5.0",
            "value": 2,
            "_view_count": null,
            "disabled": false,
            "_view_module_version": "1.5.0",
            "min": -100,
            "continuous_update": false,
            "readout_format": ".0f",
            "description_tooltip": null,
            "readout": true,
            "_model_module": "@jupyter-widgets/controls",
            "layout": "IPY_MODEL_5163d665180a45a5accb4b9f6e4b8d0b"
          }
        },
        "f6776e7d1bbd423d8f650fed2720785a": {
          "model_module": "@jupyter-widgets/controls",
          "model_name": "FloatSliderModel",
          "state": {
            "_view_name": "FloatSliderView",
            "style": "IPY_MODEL_eb435f135ae94f9da13173b006d4a30f",
            "_dom_classes": [],
            "description": "y2 noise",
            "step": 1,
            "_model_name": "FloatSliderModel",
            "orientation": "horizontal",
            "max": 100,
            "_view_module": "@jupyter-widgets/controls",
            "_model_module_version": "1.5.0",
            "value": 13,
            "_view_count": null,
            "disabled": false,
            "_view_module_version": "1.5.0",
            "min": 0,
            "continuous_update": false,
            "readout_format": ".0f",
            "description_tooltip": null,
            "readout": true,
            "_model_module": "@jupyter-widgets/controls",
            "layout": "IPY_MODEL_f6cd6fdaf9594935a1480788639c7371"
          }
        },
        "2750a1303ae04bcbba7824741c4f5285": {
          "model_module": "@jupyter-widgets/output",
          "model_name": "OutputModel",
          "state": {
            "_view_name": "OutputView",
            "msg_id": "",
            "_dom_classes": [],
            "_model_name": "OutputModel",
            "outputs": [
              {
                "output_type": "display_data",
                "metadata": {
                  "tags": []
                },
                "image/png": "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\n",
                "text/plain": "<Figure size 720x288 with 1 Axes>"
              }
            ],
            "_view_module": "@jupyter-widgets/output",
            "_model_module_version": "1.0.0",
            "_view_count": null,
            "_view_module_version": "1.0.0",
            "layout": "IPY_MODEL_0ac16ccf43014275a17021004a7ed8ed",
            "_model_module": "@jupyter-widgets/output"
          }
        },
        "672fe2a788d3457d9afb517b7f15ae6d": {
          "model_module": "@jupyter-widgets/controls",
          "model_name": "SliderStyleModel",
          "state": {
            "_view_name": "StyleView",
            "handle_color": null,
            "_model_name": "SliderStyleModel",
            "description_width": "",
            "_view_module": "@jupyter-widgets/base",
            "_model_module_version": "1.5.0",
            "_view_count": null,
            "_view_module_version": "1.2.0",
            "_model_module": "@jupyter-widgets/controls"
          }
        },
        "5163d665180a45a5accb4b9f6e4b8d0b": {
          "model_module": "@jupyter-widgets/base",
          "model_name": "LayoutModel",
          "state": {
            "_view_name": "LayoutView",
            "grid_template_rows": null,
            "right": null,
            "justify_content": null,
            "_view_module": "@jupyter-widgets/base",
            "overflow": null,
            "_model_module_version": "1.2.0",
            "_view_count": null,
            "flex_flow": null,
            "width": null,
            "min_width": null,
            "border": null,
            "align_items": null,
            "bottom": null,
            "_model_module": "@jupyter-widgets/base",
            "top": null,
            "grid_column": null,
            "overflow_y": null,
            "overflow_x": null,
            "grid_auto_flow": null,
            "grid_area": null,
            "grid_template_columns": null,
            "flex": null,
            "_model_name": "LayoutModel",
            "justify_items": null,
            "grid_row": null,
            "max_height": null,
            "align_content": null,
            "visibility": null,
            "align_self": null,
            "height": null,
            "min_height": null,
            "padding": null,
            "grid_auto_rows": null,
            "grid_gap": null,
            "max_width": null,
            "order": null,
            "_view_module_version": "1.2.0",
            "grid_template_areas": null,
            "object_position": null,
            "object_fit": null,
            "grid_auto_columns": null,
            "margin": null,
            "display": null,
            "left": null
          }
        },
        "eb435f135ae94f9da13173b006d4a30f": {
          "model_module": "@jupyter-widgets/controls",
          "model_name": "SliderStyleModel",
          "state": {
            "_view_name": "StyleView",
            "handle_color": null,
            "_model_name": "SliderStyleModel",
            "description_width": "",
            "_view_module": "@jupyter-widgets/base",
            "_model_module_version": "1.5.0",
            "_view_count": null,
            "_view_module_version": "1.2.0",
            "_model_module": "@jupyter-widgets/controls"
          }
        },
        "f6cd6fdaf9594935a1480788639c7371": {
          "model_module": "@jupyter-widgets/base",
          "model_name": "LayoutModel",
          "state": {
            "_view_name": "LayoutView",
            "grid_template_rows": null,
            "right": null,
            "justify_content": null,
            "_view_module": "@jupyter-widgets/base",
            "overflow": null,
            "_model_module_version": "1.2.0",
            "_view_count": null,
            "flex_flow": null,
            "width": null,
            "min_width": null,
            "border": null,
            "align_items": null,
            "bottom": null,
            "_model_module": "@jupyter-widgets/base",
            "top": null,
            "grid_column": null,
            "overflow_y": null,
            "overflow_x": null,
            "grid_auto_flow": null,
            "grid_area": null,
            "grid_template_columns": null,
            "flex": null,
            "_model_name": "LayoutModel",
            "justify_items": null,
            "grid_row": null,
            "max_height": null,
            "align_content": null,
            "visibility": null,
            "align_self": null,
            "height": null,
            "min_height": null,
            "padding": null,
            "grid_auto_rows": null,
            "grid_gap": null,
            "max_width": null,
            "order": null,
            "_view_module_version": "1.2.0",
            "grid_template_areas": null,
            "object_position": null,
            "object_fit": null,
            "grid_auto_columns": null,
            "margin": null,
            "display": null,
            "left": null
          }
        },
        "0ac16ccf43014275a17021004a7ed8ed": {
          "model_module": "@jupyter-widgets/base",
          "model_name": "LayoutModel",
          "state": {
            "_view_name": "LayoutView",
            "grid_template_rows": null,
            "right": null,
            "justify_content": null,
            "_view_module": "@jupyter-widgets/base",
            "overflow": null,
            "_model_module_version": "1.2.0",
            "_view_count": null,
            "flex_flow": null,
            "width": null,
            "min_width": null,
            "border": null,
            "align_items": null,
            "bottom": null,
            "_model_module": "@jupyter-widgets/base",
            "top": null,
            "grid_column": null,
            "overflow_y": null,
            "overflow_x": null,
            "grid_auto_flow": null,
            "grid_area": null,
            "grid_template_columns": null,
            "flex": null,
            "_model_name": "LayoutModel",
            "justify_items": null,
            "grid_row": null,
            "max_height": null,
            "align_content": null,
            "visibility": null,
            "align_self": null,
            "height": null,
            "min_height": null,
            "padding": null,
            "grid_auto_rows": null,
            "grid_gap": null,
            "max_width": null,
            "order": null,
            "_view_module_version": "1.2.0",
            "grid_template_areas": null,
            "object_position": null,
            "object_fit": null,
            "grid_auto_columns": null,
            "margin": null,
            "display": null,
            "left": null
          }
        }
      }
    }
  },
  "cells": [
    {
      "cell_type": "markdown",
      "metadata": {
        "id": "view-in-github",
        "colab_type": "text"
      },
      "source": [
        "<a href=\"https://colab.research.google.com/github/angelotc/FriedmanIsolationForest/blob/main/FriedmanIsoForest.ipynb\" target=\"_parent\"><img src=\"https://colab.research.google.com/assets/colab-badge.svg\" alt=\"Open In Colab\"/></a>"
      ]
    },
    {
      "cell_type": "code",
      "metadata": {
        "id": "meQr5PXyHv-1"
      },
      "source": [
        "from sklearn.datasets import make_friedman1\n",
        "from sklearn.ensemble import IsolationForest\n",
        "from sklearn.model_selection import train_test_split\n",
        "import pandas as pd\n",
        "from sklearn import model_selection \n",
        "import numpy as np\n",
        "import numpy.random as random\n",
        "import matplotlib.pyplot as plt\n",
        "from __future__ import print_function\n",
        "from ipywidgets import interact, interactive, fixed, interact_manual\n",
        "import ipywidgets as widgets"
      ],
      "execution_count": 69,
      "outputs": []
    },
    {
      "cell_type": "code",
      "metadata": {
        "id": "TfU1BnXbVojK"
      },
      "source": [
        "# Helper functions\n",
        "\n",
        "def add_y_as_feature(X,y):\n",
        "    X['y1']=y\n",
        "    return X\n",
        "\n",
        "def contaminate_df(df1, df2, percentage):\n",
        "    '''\n",
        "    Assumes :\n",
        "    - df1 and df2 have the same number of samples.\n",
        "    - df1 is the dataset you will train on\n",
        "    - df2 is the dataset with outliers\n",
        "    Parameters:\n",
        "    df1 (df) - dataframe to contaminate\n",
        "    df2 (df) - dataframe that is contaminated (has noise)\n",
        "    percentage (float) - Percentage in the form of a float (0,1) . It will add remove this percentage of rows from df1, and add this percentage of the contaminated rows from df2 into df1. \n",
        "    For example, if float = 0.05, it will remove the last 5% of the rows in df1, and add the first 5% of the rows from df2 into df1 and return that modified dataframe as the first dataframe.\n",
        "    The second dataframe that it returns are the samples from df2 that were not added to df1.\n",
        "    \n",
        "    Returns:\n",
        "    three dataframes:\n",
        "    - modified df1 with contaminated samples\n",
        "    - the samples from df2 that were not added to df1 (we will save this to use as a training set)\n",
        "    - the actual outcomes of modified df1\n",
        "    '''\n",
        "    assert(len(df1) == len(df2)), \"y1 needs to be the same length as y2\"\n",
        "    return df1[:int(len(df2)*(1-percentage))].append(df2[:int(len(df2)*percentage)]), pd.DataFrame([1]*int(len(y1)* (1 - percentage)) + [-1]*int(len(y1)*percentage), columns = [\"is_outlier\"]), df2[int(len(df2)*percentage):]\n"
      ],
      "execution_count": 103,
      "outputs": []
    },
    {
      "cell_type": "code",
      "metadata": {
        "id": "2qvzpeGsH3Xk"
      },
      "source": [
        "# Create synthetic dataset using make_friedman1. N = 100k\n",
        "\n",
        "X1, y1 = make_friedman1(\n",
        "    n_samples=1000, n_features = 5 , random_state=1)\n",
        "\n",
        "\n",
        "# Create another synthetic dataset with noise.\n",
        "X2, y2 = make_friedman1(\n",
        "    n_samples=1000, n_features = 5, random_state=1, noise=20,)\n",
        "\n",
        "y2 += 30\n",
        "\n",
        "# Convert from numpy arrays to pandas dataframes\n",
        "X1 = pd.DataFrame(X1, columns = [\"x1\", \"x2\", \"x3\", \"x4\", \"x5\"])\n",
        "y1 = pd.DataFrame(y1, columns = [\"y1\"])\n",
        "X2 = pd.DataFrame(X2, columns = [\"x1\", \"x2\", \"x3\", \"x4\", \"x5\"])\n",
        "y2 = pd.DataFrame(y2, columns = [\"y1\"])"
      ],
      "execution_count": 88,
      "outputs": []
    },
    {
      "cell_type": "code",
      "metadata": {
        "colab": {
          "base_uri": "https://localhost:8080/",
          "height": 349,
          "referenced_widgets": [
            "57e0623f6a4a428cb199161b333c4790",
            "79d7369f150247c3aa8ed5b080ed10ff",
            "9f6aef8a06354ec6987e044853d9ee51",
            "f6776e7d1bbd423d8f650fed2720785a",
            "2750a1303ae04bcbba7824741c4f5285",
            "672fe2a788d3457d9afb517b7f15ae6d",
            "5163d665180a45a5accb4b9f6e4b8d0b",
            "eb435f135ae94f9da13173b006d4a30f",
            "f6cd6fdaf9594935a1480788639c7371",
            "0ac16ccf43014275a17021004a7ed8ed"
          ]
        },
        "id": "1cjeq8FCQ09E",
        "outputId": "1713cdd3-fef2-40b1-b52f-e6dd954daa48"
      },
      "source": [
        "X1=False\n",
        "y1=False\n",
        "X2= False\n",
        "y2=False\n",
        "\n",
        "def f(y2_mean_slider,y2_noise):\n",
        "  global X1, y1, X2, y2\n",
        "  # Create synthetic dataset using make_friedman1. N = 100k\n",
        "  import matplotlib.pyplot as plt\n",
        "  fig, ax = plt.subplots(figsize=(10,4))\n",
        "  X1, y1 = make_friedman1(\n",
        "      n_samples=1000, n_features = 5 , random_state=1)\n",
        "\n",
        "\n",
        "  # Create another synthetic dataset with noise.\n",
        "  X2, y2 = make_friedman1(\n",
        "      n_samples=1000, n_features = 5, random_state=1, noise=y2_noise )\n",
        "\n",
        "  y2 += y2_mean_slider\n",
        "\n",
        "  # Convert from numpy arrays to pandas dataframes\n",
        "  X1 = pd.DataFrame(X1, columns = [\"x1\", \"x2\", \"x3\", \"x4\", \"x5\"])\n",
        "  y1 = pd.DataFrame(y1, columns = [\"y1\"])\n",
        "  X2 = pd.DataFrame(X2, columns = [\"x1\", \"x2\", \"x3\", \"x4\", \"x5\"])\n",
        "  y2 = pd.DataFrame(y2, columns = [\"y1\"])\n",
        "  import seaborn as sns\n",
        "  sns.set()\n",
        "  # n_bins = len(X)//100\n",
        "  # We can set the number of bins with the `bins` kwarg\n",
        "\n",
        "  sns.histplot(y1['y1'], bins = 'auto', stat='probability', color = 'blue', binwidth = 3, ax=ax)\n",
        "  sns.histplot(y2['y1'], bins = 'auto', stat='probability', color = 'orange', binwidth = 3, ax=ax);\n",
        "  \n",
        "y2_mean_slider = widgets.FloatSlider(\n",
        "    value=30,\n",
        "    min=-100,\n",
        "    max=100,\n",
        "    step=1,\n",
        "    description='y2 mean shift',\n",
        "    disabled=False,\n",
        "    continuous_update=False,\n",
        "    orientation='horizontal',\n",
        "    readout=True,\n",
        "    readout_format='.0f',\n",
        "  \n",
        ")\n",
        "\n",
        "\n",
        "y2_noise_slider = widgets.FloatSlider(\n",
        "    value=20,\n",
        "    min=0,\n",
        "    max=100,\n",
        "    step=1,\n",
        "    description='y2 noise',\n",
        "    disabled=False,\n",
        "    continuous_update=False,\n",
        "    orientation='horizontal',\n",
        "    readout=True,\n",
        "    readout_format='.0f',\n",
        "  \n",
        ")\n",
        "\n",
        "interact(f,y2_mean_slider=y2_mean_slider, y2_noise=y2_noise_slider);"
      ],
      "execution_count": 132,
      "outputs": [
        {
          "output_type": "display_data",
          "data": {
            "application/vnd.jupyter.widget-view+json": {
              "model_id": "57e0623f6a4a428cb199161b333c4790",
              "version_minor": 0,
              "version_major": 2
            },
            "text/plain": [
              "interactive(children=(FloatSlider(value=30.0, continuous_update=False, description='y2 mean shift', min=-100.0…"
            ]
          },
          "metadata": {
            "tags": []
          }
        }
      ]
    },
    {
      "cell_type": "code",
      "metadata": {
        "id": "Xgxp5zqok-A0",
        "outputId": "76cd1270-2d5d-4618-f69c-50d7effaea2a",
        "colab": {
          "base_uri": "https://localhost:8080/"
        }
      },
      "source": [
        "# Since Isoforest is an unsupervised learning problem, we will need to add the y variable as a feature.\r\n",
        "\r\n",
        "df1 = add_y_as_feature(X1,y1)\r\n",
        "df2 = add_y_as_feature(X2,y2)\r\n",
        "df1.head(), df2.head()"
      ],
      "execution_count": 136,
      "outputs": [
        {
          "output_type": "execute_result",
          "data": {
            "text/plain": [
              "(         x1        x2        x3        x4        x5         y1\n",
              " 0  0.417022  0.720324  0.000114  0.302333  0.146756  16.852205\n",
              " 1  0.092339  0.186260  0.345561  0.396767  0.538817   7.678848\n",
              " 2  0.419195  0.685220  0.204452  0.878117  0.027388  18.513197\n",
              " 3  0.670468  0.417305  0.558690  0.140387  0.198101  10.164178\n",
              " 4  0.800745  0.968262  0.313424  0.692323  0.876389  18.487972,\n",
              "          x1        x2        x3        x4        x5          y1\n",
              " 0  0.417022  0.720324  0.000114  0.302333  0.146756  -49.832559\n",
              " 1  0.092339  0.186260  0.345561  0.396767  0.538817  -69.780522\n",
              " 2  0.419195  0.685220  0.204452  0.878117  0.027388  -74.950789\n",
              " 3  0.670468  0.417305  0.558690  0.140387  0.198101 -113.251333\n",
              " 4  0.800745  0.968262  0.313424  0.692323  0.876389  -79.401291)"
            ]
          },
          "metadata": {
            "tags": []
          },
          "execution_count": 136
        }
      ]
    },
    {
      "cell_type": "code",
      "metadata": {
        "id": "5pmoCA3dlAtM"
      },
      "source": [
        "modified_df1,modified_df1_y, test_df2  = contaminate_df(df1, df2, 0.05)"
      ],
      "execution_count": 105,
      "outputs": []
    },
    {
      "cell_type": "code",
      "metadata": {
        "id": "EU2NtzB-lD0N",
        "outputId": "5f04ecbd-a24b-4d4d-c194-0e916b10d232",
        "colab": {
          "base_uri": "https://localhost:8080/",
          "height": 594
        }
      },
      "source": [
        "\r\n",
        "plt.xlabel('y-values of modified_df1 (contaminated df)')\r\n",
        "plt.ylabel('Probability')\r\n",
        "plt.hist(modified_df1['y1'], bins='auto', alpha=0.8, density = True, label='y1')\r\n",
        "plt.show()\r\n",
        "print(modified_df1_y[\"is_outlier\"].value_counts())\r\n",
        "plt.hist(test_df2['y1'], bins='auto', alpha=0.8, density = True, label='y1', color = 'orange')\r\n",
        "plt.show()\r\n"
      ],
      "execution_count": 137,
      "outputs": [
        {
          "output_type": "display_data",
          "data": {
            "image/png": "[encoded data removed]",
            "text/plain": [
              "<Figure size 432x288 with 1 Axes>"
            ]
          },
          "metadata": {
            "tags": []
          }
        },
        {
          "output_type": "stream",
          "text": [
            " 1    950\n",
            "-1     50\n",
            "Name: is_outlier, dtype: int64\n"
          ],
          "name": "stdout"
        },
        {
          "output_type": "display_data",
          "data": {
            "image/png": "[encoded data removed]",
            "text/plain": [
              "<Figure size 432x288 with 1 Axes>"
            ]
          },
          "metadata": {
            "tags": []
          }
        }
      ]
    },
    {
      "cell_type": "code",
      "metadata": {
        "id": "GiV6-VEvlGdD"
      },
      "source": [
        "scoring = {'AUC': 'roc_auc', 'Recall': make_scorer(recall_score, pos_label=-1)}\r\n",
        "\r\n",
        "clf = IsolationForest(random_state=47, contamination = 0.05)\r\n",
        "\r\n",
        "param_grid = {'n_estimators': list(range(30, 150, 5)),   \r\n",
        "              'max_features': list(range(6,7)), \r\n",
        "              'bootstrap': [True, False], \r\n",
        "              'n_jobs': [-1]}\r\n",
        "\r\n",
        "\r\n",
        "grid_dt_estimator = model_selection.GridSearchCV(clf, \r\n",
        "                                                 param_grid,\r\n",
        "                                                 scoring=scoring,\r\n",
        "                                                 refit='Recall')\r\n",
        "\r\n",
        "grid_dt_estimator.fit(X_train_modified, y_train_modified)"
      ],
      "execution_count": null,
      "outputs": []
    },
    {
      "cell_type": "code",
      "metadata": {
        "id": "pNf0OQbylFGF"
      },
      "source": [
        "X_train_modified, X_test_modified, y_train_modified, y_test_modified = train_test_split(modified_df1, modified_df1_y, test_size=0.2, random_state=11)"
      ],
      "execution_count": null,
      "outputs": []
    },
    {
      "cell_type": "code",
      "metadata": {
        "id": "OC5TBhXnlB3w"
      },
      "source": [
        "plt.xlabel('y-values of modified_df1 (contaminated df)')\r\n",
        "plt.ylabel('Probability')\r\n",
        "plt.hist(modified_df1['y1'], bins='auto', alpha=0.8, density = True, label='y1')\r\n",
        "plt.show()\r\n",
        "print(modified_df1_y[\"is_outlier\"].value_counts())\r\n",
        "plt.hist(test_df2['y1'], bins='auto', alpha=0.8, density = True, label='y1')\r\n",
        "plt.show()\r\n"
      ],
      "execution_count": null,
      "outputs": []
    },
    {
      "cell_type": "code",
      "metadata": {
        "id": "RviF_Pi5P0g5"
      },
      "source": [
        "# Divide 10% of the dataset as the test set ; 90% of the dataset into a training set. \n",
        "\n",
        "X_train, X_test, y_train, y_test = train_test_split( X, y, test_size=0.1, random_state=42)\n",
        "\n",
        "# we don't really need y_test or y_train..."
      ],
      "execution_count": null,
      "outputs": []
    },
    {
      "cell_type": "code",
      "metadata": {
        "id": "_osHKLTKH_JH"
      },
      "source": [
        "# Instantiate model -> fit -> predict using test set.\n",
        "# Note on contamination parameter: This is a parameter that the algorithm is quite sensitive to; it refers to the expected \n",
        "# proportion of outliers in the data set. This is used when fitting to define the threshold on the scores of the samples.\n",
        "\n",
        "clf = IsolationForest(max_samples=0.5, contamination = 0, bootstrap = True )\n",
        "clf.fit(X_train)\n",
        "y_pred_test = clf.predict(X_test)"
      ],
      "execution_count": null,
      "outputs": []
    },
    {
      "cell_type": "code",
      "metadata": {
        "colab": {
          "base_uri": "https://localhost:8080/"
        },
        "id": "eUZt0XzTohPR",
        "outputId": "af4ce880-5551-4c8c-b703-1a169de71123"
      },
      "source": [
        "pd.DataFrame(y_pred_test).value_counts()"
      ],
      "execution_count": null,
      "outputs": [
        {
          "output_type": "execute_result",
          "data": {
            "text/plain": [
              "1    10000\n",
              "dtype: int64"
            ]
          },
          "metadata": {
            "tags": []
          },
          "execution_count": 112
        }
      ]
    },
    {
      "cell_type": "markdown",
      "metadata": {
        "id": "QkCt7Hs0TsjE"
      },
      "source": [
        "The above says that only 2 of the 10k test set samples are found as outliers. Of course, these 2 are false-positives, since they are  generated by the formula of Friedman formula:\n"
      ]
    },
    {
      "cell_type": "markdown",
      "metadata": {
        "id": "LKts_XV_TsdU"
      },
      "source": [
        "y(X) = 10 * sin(pi * X[:, 0] * X[:, 1]) + 20 * (X[:, 2] - 0.5) ** 2 + 10 * X[:, 3] + 5 * X[:, 4] + noise * N(0, 1)."
      ]
    },
    {
      "cell_type": "markdown",
      "metadata": {
        "id": "kECZLKCWeXYp"
      },
      "source": [
        "##Everything below is experimental:"
      ]
    },
    {
      "cell_type": "code",
      "metadata": {
        "id": "iysXz1olVWD5"
      },
      "source": [
        "# Increasing features from 5->50? Only first 5 variables are correlated, so what if we add more independent variables. Would that change our predictions?\n",
        "for i in range (5,10):\n",
        "  X, y = make_friedman1(\n",
        "    n_samples=100000, n_features = i,  noise=0.1, random_state=1)\n",
        "  X_train, X_test, y_train, y_test = train_test_split( X, y, test_size=0.1, random_state=42)\n",
        "  clf = IsolationForest(max_samples='auto', contamination = 0)\n",
        "  clf.fit(X_train)\n",
        "  y_pred_test = clf.predict(X_test)\n",
        "  print(i, pd.DataFrame(y_pred_test).value_counts())"
      ],
      "execution_count": null,
      "outputs": []
    },
    {
      "cell_type": "code",
      "metadata": {
        "id": "WQOZRpSuQlb9"
      },
      "source": [
        "# Doesn't look like it!"
      ],
      "execution_count": null,
      "outputs": []
    }
  ]
}